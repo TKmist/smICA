import sys
from dep.CLI_classes import CLI
# Check if an argument is provided
# if len(sys.argv) != 2:
#     print("Usage: python script.py <your_argument>")
#     sys.exit(1)
# Get the argument from the command line
# workspace_info_path = sys.argv[1]

cli = CLI('samples/PTU/workspace_info.jso')

with open('../LICENSE', 'r') as file:
    Licence = file.read()
with open('../VERSION', 'r') as file:
    VERSION = file.read()
line='=============================================================================='



def execfile(filepath, globals=globals(), locals=None):
    '''Import module allowing execution of external python scripts as part of the main code. This part of the code is based on the following source: https://stackoverflow.com/a/41658338 '''
    globals.update({
        "__file__": filepath,
        "__name__": "__main__",
    })
    with open(filepath, 'rb') as file:
        exec(compile(file.read(), filepath, 'exec'), globals, locals)
import platform
import os
import datetime
import warnings

print(line)
print(line,end='\n\n')
print(Licence)
print('\n')
print('VERSION = ',VERSION,end='\n')
print(line)
print(line,end='\n\n')



